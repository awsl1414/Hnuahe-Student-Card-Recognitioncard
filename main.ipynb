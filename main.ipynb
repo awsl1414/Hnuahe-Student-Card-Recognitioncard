{
  "cells": [
    {
      "cell_type": "code",
      "execution_count": null,
      "metadata": {},
      "outputs": [],
      "source": [
        "import cv2\n",
        "import numpy as np\n",
        "from utils import cv_show, resize, sort_contours"
      ]
    },
    {
      "cell_type": "code",
      "execution_count": null,
      "metadata": {},
      "outputs": [],
      "source": [
        "# 读取模板图像\n",
        "template = cv2.imread('./images/template/reference.png')\n",
        "cv_show('template', template)"
      ]
    },
    {
      "cell_type": "code",
      "execution_count": null,
      "metadata": {},
      "outputs": [],
      "source": [
        "# 灰度图像\n",
        "ref = cv2.cvtColor(template, cv2.COLOR_BGR2GRAY)\n",
        "cv_show('ref', ref)\n"
      ]
    },
    {
      "cell_type": "code",
      "execution_count": null,
      "metadata": {},
      "outputs": [],
      "source": [
        "# 二值图像\n",
        "ref = cv2.threshold(ref, 127, 255, cv2.THRESH_BINARY_INV)[1]\n",
        "cv_show('ref', ref)"
      ]
    },
    {
      "cell_type": "code",
      "execution_count": null,
      "metadata": {},
      "outputs": [],
      "source": [
        "# 计算轮廓\n",
        "refCnts, hierarchy = cv2.findContours(ref.copy(), cv2.RETR_EXTERNAL, cv2.CHAIN_APPROX_SIMPLE)\n",
        "cv2.drawContours(template, refCnts, -1, (0, 0, 255), 3)\n",
        "cv_show(\"template\", template)"
      ]
    },
    {
      "cell_type": "code",
      "execution_count": null,
      "metadata": {},
      "outputs": [],
      "source": [
        "# 排序，从左到右，从上到下\n",
        "refCnts = sort_contours(refCnts, method=\"left-to-right\")[0]"
      ]
    },
    {
      "cell_type": "code",
      "execution_count": null,
      "metadata": {},
      "outputs": [],
      "source": [
        "digits = {}\n",
        "# 遍历每一个轮廓\n",
        "for i, c in enumerate(refCnts):\n",
        "    (x, y, w, h) = cv2.boundingRect(c)\n",
        "    roi = ref[y : y + h, x : x + w]\n",
        "    roi = cv2.resize(roi, (30, 50))\n",
        "    cv_show('roi', roi)\n",
        "    # 每一个数字对应每一个模板\n",
        "    digits[i] = roi\n"
      ]
    },
    {
      "cell_type": "code",
      "execution_count": null,
      "metadata": {},
      "outputs": [],
      "source": [
        "# 初始化卷积核\n",
        "rectKernel = cv2.getStructuringElement(cv2.MORPH_RECT, (9, 3))\n",
        "sqKernel = cv2.getStructuringElement(cv2.MORPH_RECT, (5, 5))"
      ]
    },
    {
      "cell_type": "code",
      "execution_count": null,
      "metadata": {},
      "outputs": [],
      "source": [
        "# 读取输入图像，预处理\n",
        "image = cv2.imread(\"./images/cards/card1.jpg\")\n",
        "temp = image.copy()\n",
        "\n",
        "image = resize(image, width=600)\n",
        "# 灰度\n",
        "image_gray = cv2.cvtColor(image, cv2.COLOR_BGR2GRAY)\n",
        "cv_show(\"image_gray\", image_gray)"
      ]
    },
    {
      "cell_type": "code",
      "execution_count": null,
      "metadata": {},
      "outputs": [],
      "source": [
        "# 礼帽操作(原图-闭)，突出更明亮的区域\n",
        "tophat = cv2.morphologyEx(image_gray, cv2.MORPH_TOPHAT, rectKernel)\n",
        "cv_show(\"tophat\", tophat)"
      ]
    },
    {
      "cell_type": "code",
      "execution_count": null,
      "metadata": {},
      "outputs": [],
      "source": [
        "# Sobel算子计算水平和垂直梯度\n",
        "gradX = cv2.Sobel(tophat, cv2.CV_32F, 1, 0, ksize=-1)  # ksize=-1相当于使用3x3的卷积核\n",
        "gradY = cv2.Sobel(tophat, cv2.CV_32F, 0, 1, ksize=-1)\n",
        "\n",
        "# 梯度值的绝对值\n",
        "gradX_abs = np.absolute(gradX)\n",
        "gradY_abs = np.absolute(gradY)\n",
        "\n",
        "# 归一化处理\n",
        "(minValX, maxValX) = (np.min(gradX_abs), np.max(gradX_abs))\n",
        "gradX = 255 * ((gradX_abs - minValX) / (maxValX - minValX))\n",
        "gradX = gradX.astype(\"uint8\")\n",
        "\n",
        "(minValY, maxValY) = (np.min(gradY_abs), np.max(gradY_abs))\n",
        "gradY = 255 * ((gradY_abs - minValY) / (maxValY - minValY))\n",
        "gradY = gradY.astype(\"uint8\")\n",
        "\n",
        "# print(np.array(gradX).shape)\n",
        "cv_show(\"gradX\", gradX)\n",
        "\n",
        "# print(np.array(gradY).shape)\n",
        "cv_show(\"gradY\", gradY)\n",
        "\n",
        "gradXY = cv2.addWeighted(gradX, 0.5, gradY, 0.5, 0)\n",
        "# print(np.array(gradXY).shape)\n",
        "cv_show(\"gradXY\", gradXY)"
      ]
    },
    {
      "cell_type": "code",
      "execution_count": null,
      "metadata": {},
      "outputs": [],
      "source": [
        "# 通过闭操作（先膨胀，再腐蚀）将数字连在一起\n",
        "gradXY = cv2.morphologyEx(gradXY, cv2.MORPH_CLOSE, rectKernel)\n",
        "cv_show(\"gradXY\", gradXY)"
      ]
    },
    {
      "cell_type": "code",
      "execution_count": null,
      "metadata": {},
      "outputs": [],
      "source": [
        "# THRESH_OTSU会自动寻找合适的阈值，适合双峰，需把阈值参数设置为0\n",
        "thresh = cv2.threshold(gradXY, 0, 255, cv2.THRESH_BINARY | cv2.THRESH_OTSU)[1]\n",
        "cv_show(\"thresh\", thresh)"
      ]
    },
    {
      "cell_type": "code",
      "execution_count": null,
      "metadata": {},
      "outputs": [],
      "source": [
        "# 再一次闭操作\n",
        "thresh = cv2.morphologyEx(thresh, cv2.MORPH_CLOSE, sqKernel)\n",
        "cv_show(\"thresh\", thresh)"
      ]
    },
    {
      "cell_type": "code",
      "execution_count": null,
      "metadata": {},
      "outputs": [],
      "source": [
        "# 计算轮廓\n",
        "threshCnts, hierarchy = cv2.findContours(thresh.copy(), cv2.RETR_EXTERNAL, cv2.CHAIN_APPROX_SIMPLE)\n"
      ]
    },
    {
      "cell_type": "code",
      "execution_count": null,
      "metadata": {},
      "outputs": [],
      "source": [
        "\n",
        "cur_img = image.copy()\n",
        "cv2.drawContours(cur_img, threshCnts, -1, (0, 0, 255), 2) # 第25个轮廓是目标轮廓\n",
        "cv_show(\"cur_img\", cur_img)\n",
        "\n"
      ]
    },
    {
      "cell_type": "code",
      "execution_count": null,
      "metadata": {},
      "outputs": [],
      "source": [
        "locs = []\n",
        "\n",
        "# 遍历轮廓\n",
        "for i, c in enumerate(threshCnts):\n",
        "    # 计算矩形\n",
        "    (x, y, w, h) = cv2.boundingRect(c)\n",
        "    ar = w / float(h)\n",
        "    # print(ar)\n",
        "    # print(w)\n",
        "    # print(h)\n",
        "\n",
        "    # 选择合适的区域，根据实际任务来，这里的基本都是四个数字一组\n",
        "    if ar > 8.0 and ar < 9.0:\n",
        "        locs.append((x, y, w, h))\n",
        "\n",
        "# 将符合的轮廓从左到右排序\n",
        "locs = sorted(locs, key=lambda x: x[0])\n",
        "print(len(locs))"
      ]
    },
    {
      "cell_type": "code",
      "execution_count": null,
      "metadata": {},
      "outputs": [],
      "source": [
        "output = []\n",
        "\n",
        "# 遍历每一个轮廓中的数字\n",
        "for i, (gX, gY, gW, gH) in enumerate(locs):\n",
        "    # initialize the list of group digits\n",
        "    groupOutput = []\n",
        "\n",
        "    # 根据坐标提取每一个组\n",
        "    group = image_gray[gY - 5 : gY + gH + 5, gX - 5 : gX + gW + 5]\n",
        "    group = resize(group, width=600)\n",
        "\n",
        "    cur_img2 = group.copy()\n",
        "    # cv_show(\"group\", group)\n",
        "    # 二值化\n",
        "    group = cv2.threshold(group, 0, 255, cv2.THRESH_BINARY | cv2.THRESH_OTSU)[1]\n",
        "    cv_show(\"group\", group)\n",
        "\n",
        "    # # 平滑处理\n",
        "    group = cv2.medianBlur(group, 5)\n",
        "    cv_show(\"group\", group)\n",
        "\n",
        "    # 颜色反转\n",
        "    group = cv2.bitwise_not(group)\n",
        "    cv_show(\"group\", group)\n",
        "    # 计算轮廓\n",
        "    digitCnts, hierarchy = cv2.findContours(\n",
        "        group.copy(), cv2.RETR_EXTERNAL, cv2.CHAIN_APPROX_SIMPLE\n",
        "    )\n",
        "\n",
        "    # 绘制轮廓\n",
        "\n",
        "    cv2.drawContours(cur_img2, digitCnts, -1, (0, 0, 255), 2)\n",
        "    # cv2.drawContours(temp, digitCnts, -1, (0, 255, 0), 2)\n",
        "    cv_show(\"cur_img2\", cur_img2)\n",
        "    # cv_show(\"group\", group)\n",
        "\n",
        "    # 排序，从左到右，从上到下\n",
        "    digitCnts = sort_contours(digitCnts, method=\"left-to-right\")[0]\n",
        "\n",
        "    # 计算每一组中的每一个数值\n",
        "    for c in digitCnts:\n",
        "        # 找到当前数值的轮廓，resize成合适的的大小\n",
        "        (x, y, w, h) = cv2.boundingRect(c)\n",
        "        roi = group[y : y + h, x : x + w]\n",
        "        roi = cv2.resize(roi, (32, 54))\n",
        "        cv_show(\"roi\", roi)\n",
        "\n",
        "        # 计算匹配得分\n",
        "        scores = []\n",
        "\n",
        "        # 在模板中计算每一个得分\n",
        "        for digit, digitROI in digits.items():\n",
        "            # 模板匹配\n",
        "            result = cv2.matchTemplate(roi, digitROI, cv2.TM_CCOEFF)\n",
        "            (_, score, _, _) = cv2.minMaxLoc(result)\n",
        "            scores.append(score)\n",
        "\n",
        "        # 得到最合适的数字\n",
        "        groupOutput.append(str(np.argmax(scores)))\n",
        "\n",
        "    # 画出来\n",
        "    cv2.rectangle(image, (gX - 5, gY - 5), (gX + gW + 5, gY + gH + 5), (0, 0, 255), 1)\n",
        "    cv2.putText(\n",
        "        image,\n",
        "        \"\".join(groupOutput),\n",
        "        (gX, gY - 15),\n",
        "        cv2.FONT_HERSHEY_SIMPLEX,\n",
        "        0.65,\n",
        "        (0, 0, 255),\n",
        "        2,\n",
        "    )\n",
        "\n",
        "    # 得到结果\n",
        "    output.extend(groupOutput)"
      ]
    },
    {
      "cell_type": "code",
      "execution_count": null,
      "metadata": {},
      "outputs": [],
      "source": [
        "print(\"Student Card #: {}\".format(\"\".join(output)))\n",
        "cv_show(\"image\", image)"
      ]
    },
    {
      "cell_type": "code",
      "execution_count": null,
      "metadata": {},
      "outputs": [],
      "source": []
    }
  ],
  "metadata": {
    "kernelspec": {
      "display_name": "pytorch",
      "language": "python",
      "name": "python3"
    },
    "language_info": {
      "codemirror_mode": {
        "name": "ipython",
        "version": 3
      },
      "file_extension": ".py",
      "mimetype": "text/x-python",
      "name": "python",
      "nbconvert_exporter": "python",
      "pygments_lexer": "ipython3",
      "version": "3.11.8"
    }
  },
  "nbformat": 4,
  "nbformat_minor": 2
}